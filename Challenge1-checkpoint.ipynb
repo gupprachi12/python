{
 "cells": [
  {
   "cell_type": "markdown",
   "id": "8de585e1",
   "metadata": {},
   "source": [
    "# Question 1:\n",
    "\n",
    "Create a Python program that prompts the user to input their scores for their most\n",
    "recent three attempts, calculates the average score, and then outputs the square of\n",
    "average to the user."
   ]
  },
  {
   "cell_type": "code",
   "execution_count": 1,
   "id": "09241632",
   "metadata": {},
   "outputs": [
    {
     "name": "stdout",
     "output_type": "stream",
     "text": [
      "Please enter your last three scores seprated by','comma : 34, 56, 12\n",
      "['34', ' 56', ' 12']\n",
      "Scores entered:  [34, 56, 12]\n",
      "Average:  34.0\n",
      "Approx average:  34\n",
      "Sq. Average:  1156.0\n",
      "Approx sq. average:  1156\n"
     ]
    }
   ],
   "source": [
    "# fetching data\n",
    "scores = input(\"Please enter your last three scores seprated by','comma : \").split(\",\")\n",
    "\n",
    "print(scores)\n",
    "\n",
    "#converting list from string to int\n",
    "\n",
    "position = 0\n",
    "\n",
    "while position <= 2:\n",
    "    scores[position] = int(scores[position])\n",
    "    position = position +1\n",
    "\n",
    "print(\"Scores entered: \", scores)\n",
    "\n",
    "# calculations for output required\n",
    "\n",
    "average_scores = sum(scores)/3\n",
    "print(\"Average: \", average_scores)\n",
    "print(\"Approx average: \", round(average_scores))\n",
    "\n",
    "squared_average_scores = average_scores **2\n",
    "print(\"Sq. Average: \", squared_average_scores)\n",
    "print(\"Approx sq. average: \", round(squared_average_scores))"
   ]
  },
  {
   "cell_type": "markdown",
   "id": "0a3bc84b",
   "metadata": {},
   "source": [
    "# Question 2\n",
    "Write a Python program that asks the user to enter two numbers and then outputs the\n",
    "sum, difference and the product.\n",
    "For example ,\n",
    "Enter the first number: 10.5\n",
    "Enter the second number: 4.2\n",
    "Sum: 14.7\n",
    "Difference: 6.3\n",
    "Product: 44.1"
   ]
  },
  {
   "cell_type": "code",
   "execution_count": 15,
   "id": "d42ec914",
   "metadata": {},
   "outputs": [
    {
     "name": "stdout",
     "output_type": "stream",
     "text": [
      "please enter the first number23\n",
      "please enter the second number12\n",
      "Numbers entered:  23.0 and 12.0\n",
      "Sum of numbers:  35.0\n",
      "Difference of numbers:  11.0\n",
      "Product of numbers:  276.0\n",
      "sum_of numbers 35.0\n"
     ]
    }
   ],
   "source": [
    "#fetching the data\n",
    "\n",
    "number1 = float(input(\"please enter the first number\"))\n",
    "number2 = float(input(\"please enter the second number\"))\n",
    "\n",
    "print(\"Numbers entered: \", number1, \"and\", number2)\n",
    "\n",
    "# Printing Calculations\n",
    "\n",
    "print(\"Sum of numbers: \",(number1+number2))\n",
    "\n",
    "print(\"Difference of numbers: \", abs(number1-number2))\n",
    "\n",
    "print(\"Product of numbers: \", (number1*number2))\n",
    "\n",
    "#sumation 2nd approach\n",
    "\n",
    "summation = sum((number1, number2))\n",
    "print(\"sum_of numbers\", summation)\n",
    "\n",
    "# doubt ?? why do I need to add one more bracket to use this function\n"
   ]
  },
  {
   "cell_type": "markdown",
   "id": "af807322",
   "metadata": {},
   "source": [
    "# Question 3\n",
    "\n",
    "Write a Python program that prompts the user to enter a temperature in Celsius and  then outputs the equivalent temperature in Fahrenheit,using the formula F = (C * 1.8) + 32. \n",
    "For example ,  \n",
    "Enter the temperature in Celsius: 25 \n",
    "Equivalent temperature in Fahrenheit: 77.0 \n"
   ]
  },
  {
   "cell_type": "code",
   "execution_count": 14,
   "id": "2949ed2c",
   "metadata": {},
   "outputs": [
    {
     "name": "stdout",
     "output_type": "stream",
     "text": [
      "Please enter the current temperature in celsius of your home town30.4\n",
      "86.72\n"
     ]
    }
   ],
   "source": [
    "temperatureC = float(input(\"Please enter the current temperature in celsius of your home town\"))\n",
    "\n",
    "#converting the celsius temp to fahrenheit temp\n",
    "\n",
    "temperatureF = ((temperatureC*1.8) +32)\n",
    "\n",
    "print(temperatureF)\n",
    "\n"
   ]
  },
  {
   "cell_type": "markdown",
   "id": "9909f85f",
   "metadata": {},
   "source": [
    "# Question 4\n",
    "\n",
    "Write a Python program that asks the user to enter a number and then checks if the  number is even or odd. \n",
    "For example, \n",
    "Enter a number: 14 \n",
    "14 is an even number. \n"
   ]
  },
  {
   "cell_type": "code",
   "execution_count": 26,
   "id": "d1047d7f",
   "metadata": {},
   "outputs": [
    {
     "name": "stdout",
     "output_type": "stream",
     "text": [
      "Please enter your favourite number23\n",
      "odd\n"
     ]
    }
   ],
   "source": [
    "number = float(input(\"Please enter your favourite number\"))\n",
    "\n",
    "# check even or odd\n",
    "\n",
    "if number%2 == 0:\n",
    "    print(\"Even\")\n",
    "else: print(\"odd\")\n",
    "    "
   ]
  },
  {
   "cell_type": "markdown",
   "id": "111d1bb4",
   "metadata": {},
   "source": [
    "# Question 5\n",
    "Create a Python program that prompts the user to enter their name and age, and then  outputs a greeting message with their name and the year they turn 100 years old. For example, \n",
    "Enter your name: John \n",
    "Enter your age: 30 \n",
    "Hello John! You will turn 100 years old in 2093.\n"
   ]
  },
  {
   "cell_type": "code",
   "execution_count": 36,
   "id": "20aa3fb7",
   "metadata": {},
   "outputs": [
    {
     "name": "stdout",
     "output_type": "stream",
     "text": [
      "Please enter your nameprachi\n",
      "Please enter your age in numbers20\n",
      "Hello Prachi ! you'll turn 100 years in  2104 .\n"
     ]
    }
   ],
   "source": [
    "name = input(\"Please enter your name\").title()\n",
    "age = int(input(\"Please enter your age in numbers\"))\n",
    "\n",
    "decade = 2024 + (100-age)\n",
    "\n",
    "print(\"Hello\",name,\"! you'll turn 100 years in \",decade,\".\")\n",
    "\n",
    "#spacing issue in print\n"
   ]
  },
  {
   "cell_type": "markdown",
   "id": "19987d80",
   "metadata": {},
   "source": [
    "# Question 6\n",
    "\n",
    "Write a Python program that prompts the user to enter their scores for their most recent  five attempts, calculates the average score, and then outputs the result to the user. For example , \n",
    "Enter your scores for the most recent five attempts: \n",
    "Attempt 1: 78.5 \n",
    "Attempt 2: 82.3 \n",
    "Attempt 3: 76.8 \n",
    "Attempt 4: 90.2 \n",
    "Attempt 5: 87.6 \n",
    "Average score: 83.28 \n",
    "\n"
   ]
  },
  {
   "cell_type": "code",
   "execution_count": 64,
   "id": "21d28b2c",
   "metadata": {},
   "outputs": [
    {
     "name": "stdout",
     "output_type": "stream",
     "text": [
      "Please enter your last 5 scores separated by a (',') comma: 90,95,95.5,92,94.5\n",
      "90\n",
      "93.4\n"
     ]
    }
   ],
   "source": [
    "scores = input(\"Please enter your last 5 scores separated by a (',') comma: \").split(\",\")\n",
    "print(scores[0])\n",
    "\n",
    "#create a an empty list\n",
    "list_score_int = []\n",
    "\n",
    "#converting stringed list to integer based list\n",
    "\n",
    "start = 0\n",
    "end = len(scores)-1\n",
    "while start <= end:\n",
    "    list_score_int.append(float(scores[start]))\n",
    "    start = start +1\n",
    "\n",
    "average_scores = (sum(list_score_int))/(len(scores))\n",
    "print(average_scores)\n"
   ]
  },
  {
   "cell_type": "markdown",
   "id": "48a76e6f",
   "metadata": {},
   "source": [
    "# Question 7\n",
    "Write a Python program to ask the user for a string and then print the number of  characters in the string \n",
    "For example, \n",
    "Enter a string: Hello World! \n",
    "The number of characters in the string is 12. \n"
   ]
  },
  {
   "cell_type": "code",
   "execution_count": 72,
   "id": "18b76090",
   "metadata": {},
   "outputs": [
    {
     "name": "stdout",
     "output_type": "stream",
     "text": [
      "Please enter your statementhello\n",
      "Number of characters in - hello -: 5\n"
     ]
    }
   ],
   "source": [
    "statement = input(\"Please enter your statement\")\n",
    "print(\"Number of characters in -\",statement, \"-:\", len(statement))"
   ]
  },
  {
   "cell_type": "markdown",
   "id": "1cc5dd7b",
   "metadata": {},
   "source": [
    "# Question 8\n",
    "Write a Python program to ask the user for a string and then print the string in reverse For example, \n",
    "Enter a string: Alice in Wonderland \n",
    "Reversed string: dnaldnoW ni ecilA \n"
   ]
  },
  {
   "cell_type": "code",
   "execution_count": 90,
   "id": "fcc0494a",
   "metadata": {},
   "outputs": [
    {
     "name": "stdout",
     "output_type": "stream",
     "text": [
      "Please enter your statementhello\n",
      "hello\n",
      "olleh\n"
     ]
    }
   ],
   "source": [
    "statement = input(\"Please enter your statement\")\n",
    "end= len(statement)\n",
    "\n",
    "print(statement[0:end:1])\n",
    "\n",
    "print(statement[-1:(-end)-1:-1])"
   ]
  },
  {
   "cell_type": "markdown",
   "id": "fd6f8f1b",
   "metadata": {},
   "source": [
    "# Question 9\n",
    "Write a Python program to ask the user for a string and then print the string with all the  letters capitalized. \n",
    "For example, \n",
    "Enter a string: european union \n",
    "Capitalized string: EUROPEAN UNION \n"
   ]
  },
  {
   "cell_type": "code",
   "execution_count": 92,
   "id": "7f443a8e",
   "metadata": {},
   "outputs": [
    {
     "name": "stdout",
     "output_type": "stream",
     "text": [
      "Please enter your statementhi\n",
      "HI\n"
     ]
    }
   ],
   "source": [
    "statement = input(\"Please enter your statement\").upper()\n",
    "print(statement)"
   ]
  },
  {
   "cell_type": "markdown",
   "id": "c6b7eae9",
   "metadata": {},
   "source": [
    "# Question 10\n",
    "Write a Python program to ask for the user's favorite Sportsman , and replicate that  name 100 times. "
   ]
  },
  {
   "cell_type": "code",
   "execution_count": 93,
   "id": "97a4ec48",
   "metadata": {},
   "outputs": [
    {
     "name": "stdout",
     "output_type": "stream",
     "text": [
      "Please enter your fav sportsmanDhoni\n",
      "DhoniDhoniDhoniDhoniDhoniDhoniDhoniDhoniDhoniDhoniDhoniDhoniDhoniDhoniDhoniDhoniDhoniDhoniDhoniDhoniDhoniDhoniDhoniDhoniDhoniDhoniDhoniDhoniDhoniDhoniDhoniDhoniDhoniDhoniDhoniDhoniDhoniDhoniDhoniDhoniDhoniDhoniDhoniDhoniDhoniDhoniDhoniDhoniDhoniDhoniDhoniDhoniDhoniDhoniDhoniDhoniDhoniDhoniDhoniDhoniDhoniDhoniDhoniDhoniDhoniDhoniDhoniDhoniDhoniDhoniDhoniDhoniDhoniDhoniDhoniDhoniDhoniDhoniDhoniDhoniDhoniDhoniDhoniDhoniDhoniDhoniDhoniDhoniDhoniDhoniDhoniDhoniDhoniDhoniDhoniDhoniDhoniDhoniDhoniDhoni\n"
     ]
    }
   ],
   "source": [
    "sportsman = input(\"Please enter your fav sportsman\")\n",
    "print(sportsman*100)\n",
    "\n",
    "#is it possible we can have the output in the next lines instead of the same or with the serial number"
   ]
  },
  {
   "cell_type": "markdown",
   "id": "da31efc2",
   "metadata": {},
   "source": [
    "# Question 11\n",
    "\n",
    "Write a Python program to ask for the user's name , and print the 1st character in that  name. \n",
    "For example , \n",
    "Enter your name: John \n",
    "The first character in your name is: J\n",
    "\n"
   ]
  },
  {
   "cell_type": "code",
   "execution_count": 95,
   "id": "412175fd",
   "metadata": {},
   "outputs": [
    {
     "name": "stdout",
     "output_type": "stream",
     "text": [
      "Please enter your namepracahi\n",
      "Name's first character is:  P\n"
     ]
    }
   ],
   "source": [
    "name = input(\"Please enter your name\").title()\n",
    "print(\"Name's first character is: \", name[0])"
   ]
  },
  {
   "cell_type": "markdown",
   "id": "298812d0",
   "metadata": {},
   "source": [
    "# Question 12\n",
    "Write a Python program to ask the user to enter his favorite movie 1 , and then ask for  his favorite movie 2. Compute the difference in the length of movie names in both the  movies and print the length difference. \n",
    "For example :  \n",
    "Please enter your favorite movie 1: Avengers: Endgame \n",
    "Please enter your favorite movie 2: The Shawshank Redemption \n",
    "The length difference between the movie names is: 13 \n"
   ]
  },
  {
   "cell_type": "code",
   "execution_count": 96,
   "id": "8e42286a",
   "metadata": {
    "scrolled": true
   },
   "outputs": [
    {
     "name": "stdout",
     "output_type": "stream",
     "text": [
      "Please enter your fav movie1aaa\n",
      "Please enter your fav movie1bbbbb\n",
      "2\n"
     ]
    }
   ],
   "source": [
    "name1 = input(\"Please enter your fav movie1\")\n",
    "name2 = input(\"Please enter your fav movie1\")\n",
    "\n",
    "print(abs(len(name1) - len(name2)))"
   ]
  },
  {
   "cell_type": "code",
   "execution_count": 99,
   "id": "75692424",
   "metadata": {},
   "outputs": [
    {
     "name": "stdout",
     "output_type": "stream",
     "text": [
      "Please enter your two fav movies separated by comma aaa, bbbbbb\n",
      "4\n"
     ]
    }
   ],
   "source": [
    "movie = input(\"Please enter your two fav movies separated by comma \").split(\",\")\n",
    "\n",
    "print(abs(len(movie[0]) - len(movie[1])))\n",
    "\n"
   ]
  },
  {
   "cell_type": "markdown",
   "id": "77024e8a",
   "metadata": {},
   "source": [
    "# Question 13\n",
    "\n",
    "Write a Python program to ask the user to enter their favorite quote. Count the number  of words in the quote and print the word count. \n",
    "For example , \n",
    "Please enter your favorite quote: \"Make it happen” \n",
    "The word count in the quote is: 3 \n"
   ]
  },
  {
   "cell_type": "code",
   "execution_count": 101,
   "id": "8a255b1e",
   "metadata": {},
   "outputs": [
    {
     "name": "stdout",
     "output_type": "stream",
     "text": [
      "Please enter your fav quoteMake it happen\n",
      "Number of words in quote entered:  3\n"
     ]
    }
   ],
   "source": [
    "quote = input(\"Please enter your fav quote\").split(\" \")\n",
    "print(\"Number of words in quote entered: \", len(quote))"
   ]
  },
  {
   "cell_type": "markdown",
   "id": "ee17ec35",
   "metadata": {},
   "source": [
    "# Question 14\n",
    "Write a Python program to ask the user to enter a word. Check if the word is a  palindrome (reads the same forwards and backwards) and print the result. \n",
    "For example , \n",
    "Please enter a word: radar \n",
    "The word \"radar\" is a palindrome. \n"
   ]
  },
  {
   "cell_type": "code",
   "execution_count": 107,
   "id": "4f206654",
   "metadata": {},
   "outputs": [
    {
     "name": "stdout",
     "output_type": "stream",
     "text": [
      "Please enter a wordradars\n",
      "Word entered:  radars\n",
      "Reversal of word:  sradar\n",
      "palindrome status False\n"
     ]
    }
   ],
   "source": [
    "word = input(\"Please enter a word\")\n",
    "print(\"Word entered: \", word)\n",
    "\n",
    "reversal_word = word[-1:-len(word)-1:-1]\n",
    "print(\"Reversal of word: \", reversal_word)\n",
    "\n",
    "print(\"palindrome status\", word == reversal_word)\n",
    "\n"
   ]
  },
  {
   "cell_type": "markdown",
   "id": "f56c7f52",
   "metadata": {},
   "source": [
    "# Question 15 - Not solved error in loop\n",
    "Write a Python program to ask the user to enter a sentence. Replace all occurrences of a  specific word in the sentence with another word and print the modified sentence. \n",
    "For example , \n",
    "Please enter a sentence: \"I love eating apples. Apples are delicious.\" \n",
    "Enter the word to replace: apples \n",
    "Enter the replacement word: oranges \n",
    "The modified sentence is: \"I love eating oranges. Oranges are delicious.\" \n"
   ]
  },
  {
   "cell_type": "code",
   "execution_count": null,
   "id": "edb74727",
   "metadata": {
    "scrolled": true
   },
   "outputs": [],
   "source": [
    "sentence_list = input(\"Please enter a sentence\").lower().split(\" \")\n",
    "print(sentence_list)\n",
    "\n",
    "# counting which word will be occured more than once, in a sentence entered\n",
    "\n",
    "change_set = ()\n",
    "\n",
    "start = 0\n",
    "end = len(sentence_list)-1\n",
    "\n",
    "while start <=end:\n",
    "      if sentence_list.count(sentence_list[start]) >1:\n",
    "        change_set.add(sentence_list[start])\n",
    "        start = start+1\n",
    "\n",
    "print(change_set)\n",
    "\n"
   ]
  },
  {
   "cell_type": "code",
   "execution_count": 1,
   "id": "6482e81b",
   "metadata": {},
   "outputs": [
    {
     "name": "stdout",
     "output_type": "stream",
     "text": [
      "Please enter any setnece : smt murmu is the current president of india. india has a 5 year term for presidency.\n",
      "ORIGINAL: smt murmu is the current president of india. india has a 5 year term for presidency.\n",
      "Please enter what word you want to replace : INdia\n",
      "Please enter  with what  word you want to replace : australia\n",
      "MODIFIED: smt murmu is the current president of australia. australia has a 5 year term for presidency.\n"
     ]
    }
   ],
   "source": [
    "user_input = input(\"Please enter any setnece : \").lower()\n",
    "\n",
    "\n",
    "print(\"ORIGINAL:\" ,user_input)\n",
    "\n",
    "what_to_replace = \"india\"\n",
    "with_what_to_replace = \"spain\"\n",
    "\n",
    "user_input = user_input.replace(what_to_replace , with_what_to_replace)\n",
    "\n",
    "print(\"MODIFIED:\" ,user_input)"
   ]
  },
  {
   "cell_type": "markdown",
   "id": "d6e66521",
   "metadata": {},
   "source": [
    "# Question 16\n",
    "Write a Python program to ask the user to enter a sentence. Count the number of vowels  (a, e, i, o, u) in the sentence and print the vowel count. \n",
    "For example: \n",
    "Please enter a sentence: \"The quick brown fox jumps over the lazy dog.\" \n",
    "The vowel count in the sentence is: 11 \n"
   ]
  },
  {
   "cell_type": "code",
   "execution_count": 19,
   "id": "0a1398c4",
   "metadata": {},
   "outputs": [
    {
     "name": "stdout",
     "output_type": "stream",
     "text": [
      "Please enter a sentenceThe quick brown fox jumps over the lazy dog\n",
      "vowels: 11\n"
     ]
    }
   ],
   "source": [
    "sentence = input(\"Please enter a sentence\").lower()\n",
    "count_vowels = sum([sentence.count(\"a\"), sentence.count(\"e\"), sentence.count(\"i\"), sentence.count(\"o\"), sentence.count(\"u\")])\n",
    "\n",
    "print(\"vowels:\" , count_vowels)"
   ]
  },
  {
   "cell_type": "markdown",
   "id": "6591b435",
   "metadata": {},
   "source": [
    "# Question 17\n",
    "\n",
    "Write a code that takes in two strings and concatenates them, adding a \n",
    "space in between. Then, check if the length of full name is greater than 10 , \n",
    "if so, please print “Your name is very long” , Otherwise print ”Your name is \n",
    "Okay”\n"
   ]
  },
  {
   "cell_type": "code",
   "execution_count": 22,
   "id": "83f2f2b8",
   "metadata": {},
   "outputs": [
    {
     "name": "stdout",
     "output_type": "stream",
     "text": [
      "please enter your first nameprachi\n",
      "please enter your last namegupta\n",
      "Your name is very long\n"
     ]
    }
   ],
   "source": [
    "f_name = input(\"please enter your first name\").title()\n",
    "l_name = input(\"please enter your last name\").title()\n",
    "\n",
    "#concat name\n",
    "full_name = f_name +\" \"+ l_name\n",
    "\n",
    "# output conditions\n",
    "if len(full_name) > 10:\n",
    "    print(\"Your name is very long\")\n",
    "else:\n",
    "    print(\"Your name is okay\")"
   ]
  },
  {
   "cell_type": "markdown",
   "id": "42b09036",
   "metadata": {},
   "source": [
    "# Question 18\n",
    "\n",
    "Write a Python program that takes two numbers as input and determines whether the  first number is greater, smaller, or equal to the second number. Output the appropriate  message based on the comparison result. \n",
    "\n"
   ]
  },
  {
   "cell_type": "code",
   "execution_count": 24,
   "id": "e879844a",
   "metadata": {},
   "outputs": [
    {
     "name": "stdout",
     "output_type": "stream",
     "text": [
      "please enter 2 numbers separated by comma23,12\n",
      "First number is greater than second\n"
     ]
    }
   ],
   "source": [
    "numbers = input(\"please enter 2 numbers separated by comma\").split(\",\")\n",
    "#conversion of string to int\n",
    "numbers_int = [int(numbers[0]), int(numbers[1])]\n",
    "\n",
    "# comparison \n",
    "\n",
    "if numbers_int[0] == numbers_int[1]:\n",
    "    print(\"Equal numbers entered\")\n",
    "elif numbers_int[0] > numbers_int[1]:\n",
    "    print(\"First number is greater than second\")\n",
    "else:\n",
    "    print(\"Second number is greater than first\")"
   ]
  },
  {
   "cell_type": "markdown",
   "id": "7baca148",
   "metadata": {},
   "source": [
    "# Question 19\n",
    "\n",
    "Write a Python program to ask the user for a string and then print the number of  characters in the string \n",
    "For example, \n",
    "Enter a string: Hello World! \n",
    "The number of characters in the string is 12. "
   ]
  },
  {
   "cell_type": "code",
   "execution_count": null,
   "id": "c95556f4",
   "metadata": {},
   "outputs": [],
   "source": []
  },
  {
   "cell_type": "markdown",
   "id": "0c1f7ca1",
   "metadata": {},
   "source": [
    "# Question 20\n",
    "Write a Python program to ask the user to enter his favorite movie 1 , and then ask for  his favorite movie 2. Compute the difference in the length of movie names in both the  movies and print the length difference. \n",
    "For example :  \n",
    "Please enter your favorite movie 1: Avengers: Endgame \n",
    "Please enter your favorite movie 2: The Shawshank Redemption \n",
    "The length difference between the movie names is: 13 \n"
   ]
  },
  {
   "cell_type": "code",
   "execution_count": null,
   "id": "274243af",
   "metadata": {},
   "outputs": [],
   "source": []
  },
  {
   "cell_type": "markdown",
   "id": "c373f4f9",
   "metadata": {},
   "source": [
    "# Question 21\n",
    "Write a Python program to ask the user to enter a sentence. Count the number of vowels  (a, e, i, o, u) in the sentence and print the vowel count. \n",
    "For example ,  \n",
    "Please enter a sentence: \"The quick brown fox jumps over the lazy dog.\" \n",
    "The vowel count in the sentence is: 11 \n"
   ]
  },
  {
   "cell_type": "code",
   "execution_count": null,
   "id": "3c0c03b3",
   "metadata": {},
   "outputs": [],
   "source": []
  },
  {
   "cell_type": "markdown",
   "id": "36314d28",
   "metadata": {},
   "source": [
    "# Question 22\n",
    "\n",
    "Write a Python program that takes the coordinates (x, y) of a point and determines the  quadrant it belongs to on the Cartesian plane. Use nested if-else statements to handle  different cases. The quadrants are defined as follows: \n",
    "- First quadrant: x > 0 and y > 0 \n",
    "- Second quadrant: x < 0 and y > 0 \n",
    "- Third quadrant: x < 0 and y < 0 \n",
    "- Fourth quadrant: x > 0 and y < 0 \n",
    "- Additionally, check if the point lies on the axes (x = 0 or y = 0) and provide appropriate  messages.\n",
    "\n"
   ]
  },
  {
   "cell_type": "code",
   "execution_count": 28,
   "id": "4fb69b96",
   "metadata": {},
   "outputs": [
    {
     "name": "stdout",
     "output_type": "stream",
     "text": [
      "please enter the x cordinates0\n",
      "please enter the y cordinates7\n",
      "on axis\n"
     ]
    }
   ],
   "source": [
    "x_cordinates = int(input(\"please enter the x cordinates\"))\n",
    "y_cordinates = int(input(\"please enter the y cordinates\"))\n",
    "\n",
    "if x_cordinates > 0 and y_cordinates > 0:\n",
    "    print(\"first quad\")\n",
    "elif x_cordinates < 0 and y_cordinates > 0:\n",
    "    print(\"second quad\")\n",
    "elif x_cordinates < 0 and y_cordinates < 0:\n",
    "    print(\"third quad\")\n",
    "elif x_cordinates > 0 and y_cordinates < 0:\n",
    "    print(\"fourth quad\")\n",
    "else:\n",
    "    print(\"on axis\")"
   ]
  },
  {
   "cell_type": "markdown",
   "id": "d268c1a0",
   "metadata": {},
   "source": [
    "# Question 23\n",
    "\n",
    "Write a Python program that prompts the user to enter their age and determines the  price of a movie ticket. The ticket price varies based on age ranges: \n",
    "Children (age <= 12): $5 \n",
    "Adults (age > 12 and age <= 65): $10 \n",
    "Seniors (age > 65): $7 \n",
    "Note: Add conditions to check if the age entered by the user is valid (positive) and provide  an error message if it is not. \n"
   ]
  },
  {
   "cell_type": "code",
   "execution_count": 30,
   "id": "f276e382",
   "metadata": {},
   "outputs": [
    {
     "name": "stdout",
     "output_type": "stream",
     "text": [
      "please enter your age34\n",
      "price is $10\n"
     ]
    }
   ],
   "source": [
    "age = int(input(\"please enter your age\"))\n",
    "\n",
    "if age <= 12:\n",
    "    print(\"price is $5\")\n",
    "elif age > 12 and age <= 65:\n",
    "    print(\"price is $10\")\n",
    "elif age > 65:\n",
    "    print(\"price is $7\")\n",
    "else:\n",
    "    print(\"invalid data entered\")\n",
    "    "
   ]
  },
  {
   "cell_type": "markdown",
   "id": "95a0e6cc",
   "metadata": {},
   "source": [
    "# Question 24\n",
    "\n",
    "Write a Python program that prompts the user to enter the age and number of tickets  they want to purchase. Determine the ticket price based on the following conditions: Ticket original price is 200 USD. \n",
    "If the age is below 12, apply a 60 % discount per ticket. \n",
    "If the age is above 65, apply a 30% discount per ticket. \n",
    "If the age is above 40 and less than 60, apply a 20% discount per ticket. \n",
    "For other ages, no discount is applied. \n"
   ]
  },
  {
   "cell_type": "code",
   "execution_count": 33,
   "id": "1042bb66",
   "metadata": {},
   "outputs": [
    {
     "name": "stdout",
     "output_type": "stream",
     "text": [
      "please enter your age24\n",
      "please enter number of tickets required1\n",
      "please pay 200\n"
     ]
    }
   ],
   "source": [
    "age = int(input(\"please enter your age\"))\n",
    "number_of_tickets= int(input(\"please enter number of tickets required\"))\n",
    "\n",
    "price = 200\n",
    "\n",
    "if age <= 12:\n",
    "    print(\"price is 60% off for you, please pay\", price*0.4*number_of_tickets)\n",
    "elif age > 40 and age <= 60:\n",
    "    print(\"price is 20% off for you, please pay\", price*0.8*number_of_tickets)\n",
    "elif age > 65:\n",
    "    print(\"price is 30% off for you, please pay\", price*0.7*number_of_tickets)\n",
    "else:\n",
    "    print(\"please pay\", price)"
   ]
  },
  {
   "cell_type": "markdown",
   "id": "5257f84d",
   "metadata": {},
   "source": [
    "# Question 25\n",
    "\n",
    "Write a Python program that prompts the user to enter a temperature in Celsius or  Fahrenheit and converts it to the other unit. The program should ask the user to specify  the input unit (C for Celsius, F for Fahrenheit) and then perform the conversion using  the following formulas: \n",
    "Celsius to Fahrenheit: F = (C * 9/5) + 32 \n",
    "Fahrenheit to Celsius: C = (F - 32) * 5/9 \n",
    "Display the converted temperature. \n"
   ]
  },
  {
   "cell_type": "code",
   "execution_count": 38,
   "id": "0a9e5bcd",
   "metadata": {},
   "outputs": [
    {
     "name": "stdout",
     "output_type": "stream",
     "text": [
      "please enter the temperature23\n",
      "please specify temperature entered is in Celsius or Fahrenheitv\n",
      "please enter the valid data\n"
     ]
    }
   ],
   "source": [
    "temp = float(input(\"please enter the temperature\"))\n",
    "unit = input(\"please specify temperature entered is in Celsius or Fahrenheit\").upper()\n",
    "\n",
    "if unit[0] == \"C\":\n",
    "    F = (temp *(9/5))+32\n",
    "    print(F, \"in F\")\n",
    "elif unit[0] == \"F\":\n",
    "    C = (temp - 32)* (5/9)\n",
    "    print(C, \"in C\")\n",
    "else:\n",
    "    print(\"please enter the valid data\")\n",
    "    "
   ]
  },
  {
   "cell_type": "markdown",
   "id": "e66a0eca",
   "metadata": {},
   "source": [
    "# Question 26\n",
    "\n",
    "Write a Python program that asks the user to enter a positive integer and calculates the  sum of its digits. \n"
   ]
  },
  {
   "cell_type": "code",
   "execution_count": 58,
   "id": "a0905efc",
   "metadata": {},
   "outputs": [
    {
     "name": "stdout",
     "output_type": "stream",
     "text": [
      "please enter a number12\n",
      "1\n",
      "[1]\n",
      "[1, 2]\n",
      "sum of digits of the number entered is:  3\n"
     ]
    }
   ],
   "source": [
    "number = input(\"please enter a number\")\n",
    "\n",
    "#converting number to digits in string\n",
    "\n",
    "number = list(number)\n",
    "print(number[0])\n",
    "\n",
    "# converting string to integer\n",
    "\n",
    "digits= []\n",
    "\n",
    "start = 0\n",
    "end = len(number)-1\n",
    "while start <= end:\n",
    "    digits.append(int(number[start]))\n",
    "    print(digits)\n",
    "    start = start+1\n",
    "\n",
    "#adding digits\n",
    "print(\"sum of digits of the number entered is: \", sum(digits))\n",
    "\n",
    "    "
   ]
  },
  {
   "cell_type": "markdown",
   "id": "2002545b",
   "metadata": {},
   "source": [
    "# Question 27\n",
    "Write a Python program that prompts the user to enter the marks (out of 100) for five  subjects: Math, Science, English, History, and Geography. Calculate the average marks  and determine the grade distribution based on the following conditions: \n",
    "If the average marks are above 90, print \"Excellent\". \n",
    "If the average marks are between 80 and 90 (inclusive), print \"Good\". \n",
    "If the average marks are between 70 and 80 (inclusive), print \"Average\". \n",
    "If the average marks are below 70, print \"Below Average\".\n",
    "\n"
   ]
  },
  {
   "cell_type": "code",
   "execution_count": 61,
   "id": "f85cbc46",
   "metadata": {},
   "outputs": [
    {
     "name": "stdout",
     "output_type": "stream",
     "text": [
      "please enter your 5 scores  for the subjects separated by comma12,12,12,12,12\n",
      "['12', '12', '12', '12', '12']\n",
      "[12, 12, 12, 12, 12]\n",
      "Avg Scores:  12.0\n",
      "Below Average\n"
     ]
    }
   ],
   "source": [
    "scores = input(\"please enter your 5 scores  for the subjects separated by comma\").split(\",\")\n",
    "\n",
    "# doubt - what if we want to specify which subject to - can we use dictory with input\n",
    "\n",
    "print(scores)\n",
    "\n",
    "#to calculate avg we need to convert stringed list to integers\n",
    "scores_list = []\n",
    "\n",
    "start = 0\n",
    "end = len(scores)\n",
    "while start < end:\n",
    "    scores_list.append(int(scores[start]))\n",
    "    start = start + 1\n",
    "\n",
    "print(scores_list)\n",
    "avg_scores_list = sum(scores_list)/end\n",
    "print(\"Avg Scores: \", avg_scores_list)\n",
    "\n",
    "#grade distribution system\n",
    "\n",
    "if avg_scores_list > 90:\n",
    "    print(\"Excellent\")\n",
    "elif avg_scores_list >80 and avg_scores_list <= 90:\n",
    "    print(\"Good\")\n",
    "elif avg_scores_list > 70 and avg_scores_list <= 80:\n",
    "    print(\"Average\")\n",
    "else:\n",
    "    print(\"Below Average\")"
   ]
  },
  {
   "cell_type": "markdown",
   "id": "7730ac6e",
   "metadata": {},
   "source": [
    "# Question 28\n",
    "Write a Python program that prompts the user to enter the lengths of three sides of a  triangle and determines if it is a valid triangle.  \n",
    "Use the triangle inequality theorem to check the conditions: \n",
    "- If the sum of the lengths of any two sides is greater than the length of the  \n",
    "third side, print \"Valid triangle\". \n",
    "- Otherwise, print \"Invalid triangle\". \n"
   ]
  },
  {
   "cell_type": "code",
   "execution_count": 66,
   "id": "5082ccd1",
   "metadata": {},
   "outputs": [
    {
     "name": "stdout",
     "output_type": "stream",
     "text": [
      "please enter 3 sides of a traingle separated by comma12,13,12\n"
     ]
    },
    {
     "data": {
      "text/plain": [
       "True"
      ]
     },
     "execution_count": 66,
     "metadata": {},
     "output_type": "execute_result"
    }
   ],
   "source": [
    "sides = input(\"please enter 3 sides of a traingle separated by comma\").split(\",\")\n",
    "\n",
    "sides[0] < sides[1]\n",
    "\n",
    "#can they compare the strings "
   ]
  },
  {
   "cell_type": "code",
   "execution_count": 67,
   "id": "801b888b",
   "metadata": {},
   "outputs": [
    {
     "name": "stdout",
     "output_type": "stream",
     "text": [
      "please enter 3 sides of a traingle separated by comma12, 13, 12\n"
     ]
    },
    {
     "data": {
      "text/plain": [
       "False"
      ]
     },
     "execution_count": 67,
     "metadata": {},
     "output_type": "execute_result"
    }
   ],
   "source": [
    "sides = input(\"please enter 3 sides of a traingle separated by comma\").split(\",\")\n",
    "\n",
    "sides[0] < sides[1]\n",
    "\n",
    "#can they compare the strings "
   ]
  },
  {
   "cell_type": "code",
   "execution_count": 68,
   "id": "de82a6cf",
   "metadata": {},
   "outputs": [
    {
     "name": "stdout",
     "output_type": "stream",
     "text": [
      "please enter 3 sides of a traingle separated by comma1,1,2\n",
      "valid trainagle\n"
     ]
    }
   ],
   "source": [
    "sides = input(\"please enter 3 sides of a traingle separated by comma\").split(\",\")\n",
    "\n",
    "# converting strings into integers\n",
    "\n",
    "start = 0\n",
    "end = len(sides)\n",
    "while start < end:\n",
    "    sides[start] = int(sides[start])\n",
    "    start = start+1\n",
    "    \n",
    "if (sides[0]+sides[1] > sides[2]) or (sides[1] +sides[2] > sides[0]) or (sides[0] +sides[2] > sides[1]):\n",
    "    print(\"valid trainagle\")\n",
    "else:\n",
    "    print(\"traingle cannot be formed\")\n",
    "    "
   ]
  },
  {
   "cell_type": "markdown",
   "id": "9b487f61",
   "metadata": {},
   "source": [
    "# Question 29\n",
    "\n",
    "Write a program to print the numbers from 1 to 20 using a while Loop. \n"
   ]
  },
  {
   "cell_type": "code",
   "execution_count": 70,
   "id": "3e5e2190",
   "metadata": {},
   "outputs": [
    {
     "name": "stdout",
     "output_type": "stream",
     "text": [
      "1\n",
      "2\n",
      "3\n",
      "4\n",
      "5\n",
      "6\n",
      "7\n",
      "8\n",
      "9\n",
      "10\n",
      "11\n",
      "12\n",
      "13\n",
      "14\n",
      "15\n",
      "16\n",
      "17\n",
      "18\n",
      "19\n",
      "20\n"
     ]
    }
   ],
   "source": [
    "start = 1\n",
    "end = 20\n",
    "\n",
    "while start <=end:\n",
    "    print(start)\n",
    "    start = start+1\n"
   ]
  },
  {
   "cell_type": "code",
   "execution_count": null,
   "id": "ae3b1824",
   "metadata": {},
   "outputs": [],
   "source": []
  },
  {
   "cell_type": "markdown",
   "id": "26ec16b9",
   "metadata": {},
   "source": [
    "# Question 30\n",
    "Write a program to ask the user to enter a number, and then keep printing \"Hello!\"  that many times. \n"
   ]
  },
  {
   "cell_type": "code",
   "execution_count": 71,
   "id": "86edfecb",
   "metadata": {},
   "outputs": [
    {
     "name": "stdout",
     "output_type": "stream",
     "text": [
      "please enter a number2\n",
      "HelloHello\n"
     ]
    }
   ],
   "source": [
    "number = int(input(\"please enter a number\"))\n",
    "print(\"Hello\"* number)"
   ]
  },
  {
   "cell_type": "markdown",
   "id": "89ac5875",
   "metadata": {},
   "source": [
    "# Question 31\n",
    "Write a program to ask the user to enter a number, then keep subtracting 1 from that  number until it reaches 0, and print each number as you go. \n"
   ]
  },
  {
   "cell_type": "code",
   "execution_count": 72,
   "id": "0d568c5f",
   "metadata": {},
   "outputs": [
    {
     "name": "stdout",
     "output_type": "stream",
     "text": [
      "please enter a number5\n",
      "5\n",
      "4\n",
      "3\n",
      "2\n",
      "1\n"
     ]
    }
   ],
   "source": [
    "number = int(input(\"please enter a number\"))\n",
    "\n",
    "while number > 0:\n",
    "    print(number)\n",
    "    number = number -1\n"
   ]
  },
  {
   "cell_type": "markdown",
   "id": "5e8e97b6",
   "metadata": {},
   "source": [
    "# Question 32 -  match numbers couldnt be specified\n",
    "Create a Python program that allows two players to enter their scores for the last three  football matches they played. \n",
    "The program should store their responses and then calculate the total scores for each game  by adding both players' scores together. Finally, it should display the total scores for each game. \n",
    "Requirements: \n",
    "Use a while loop to collect the scores from both players for the three matches. \n",
    "Store the scores in lists. \n",
    "Calculate the total scores for each game by summing up the corresponding scores from both  players' lists. ores for each game.\n",
    "\n",
    "##\n",
    "EXPECTED INPUTS \n",
    "Player 1, please enter your score for Match 1: 2 \n",
    "Player 2, please enter your score for Match 1: 1 \n",
    "Display the total sc\n",
    "Player 1, please enter your score for Match 2: 3 \n",
    "Player 2, please enter your score for Match 2: 2 \n",
    "Player 1, please enter your score for Match 3: 1 \n",
    "Player 2, please enter your score for Match 3: 4 \n",
    "\n",
    "##\n",
    "EXPECTED OUTPUT \n",
    "Total Score for Match 1: 3 \n",
    "Total Score for Match 2: 5 \n",
    "Total Score for Match 3: 5 \n",
    "_______________________________\n"
   ]
  },
  {
   "cell_type": "code",
   "execution_count": 85,
   "id": "2238149f",
   "metadata": {},
   "outputs": [
    {
     "name": "stdout",
     "output_type": "stream",
     "text": [
      "player 1 please enter your score for match2\n",
      "player 2 please enter your score for match1\n",
      "total score for match 1 is:  3\n",
      "player 1 please enter your score for match3\n",
      "player 2 please enter your score for match2\n",
      "total score for match 2 is:  5\n",
      "player 1 please enter your score for match1\n",
      "player 2 please enter your score for match4\n",
      "total score for match 3 is:  5\n",
      "scores of player1  [2, 3, 1]\n",
      "scores of player2  [1, 2, 4]\n"
     ]
    }
   ],
   "source": [
    "player1 = []\n",
    "player2 = []\n",
    "\n",
    "index = 0\n",
    "start = 1\n",
    "while start <= 3:\n",
    "    player1.append(int(input(\"player 1 please enter your score for match\")))\n",
    "    player2.append(int(input(\"player 2 please enter your score for match\")))\n",
    "    print(\"total score for match\", start, \"is: \", sum((player1[index], player2[index])))\n",
    "    start = start + 1\n",
    "    index = index + 1\n",
    "\n",
    "print(\"scores of player1 \", player1)\n",
    "print(\"scores of player2 \", player2)"
   ]
  },
  {
   "cell_type": "markdown",
   "id": "85758610",
   "metadata": {},
   "source": [
    "# Question 33\n",
    "Write a program that generates the multiplication table of a given number using a while  loop. The program should display the table from 1 to 10. \n",
    "Example: \n",
    "##\n",
    "\n",
    "Input: 5 \n",
    "Output: \n",
    "5 x 1 = 5 \n",
    "5 x 2 = 10 \n",
    "5 x 3 = 15 \n",
    "5 x 4 = 20 \n",
    "5 x 5 = 25 \n",
    "5 x 6 = 30 \n",
    "5 x 7 = 35 \n",
    "5 x 8 = 40 \n",
    "5 x 9 = 45 \n",
    "5 x 10 = 50 "
   ]
  },
  {
   "cell_type": "code",
   "execution_count": 88,
   "id": "ec07ecb0",
   "metadata": {},
   "outputs": [
    {
     "name": "stdout",
     "output_type": "stream",
     "text": [
      "please write a number5\n",
      "5 X 1 = 5\n",
      "5 X 2 = 10\n",
      "5 X 3 = 15\n",
      "5 X 4 = 20\n",
      "5 X 5 = 25\n",
      "5 X 6 = 30\n",
      "5 X 7 = 35\n",
      "5 X 8 = 40\n",
      "5 X 9 = 45\n",
      "5 X 10 = 50\n"
     ]
    }
   ],
   "source": [
    "number = int(input(\"please write a number\"))\n",
    "\n",
    "start = 1\n",
    "while start <= 10:\n",
    "    print(number, \"X\", start , \"=\", number*start)\n",
    "    start = start+1"
   ]
  },
  {
   "cell_type": "markdown",
   "id": "32165499",
   "metadata": {},
   "source": [
    " # Question 34. \n",
    "Write a program that takes an integer as input from the user 6 times and calculates the  square of this number and print it. \n"
   ]
  },
  {
   "cell_type": "code",
   "execution_count": 90,
   "id": "b69a2cec",
   "metadata": {},
   "outputs": [
    {
     "name": "stdout",
     "output_type": "stream",
     "text": [
      "please write a number2\n",
      "number entered:  2\n",
      "sq of the number:  4\n",
      "please write a number3\n",
      "number entered:  3\n",
      "sq of the number:  9\n",
      "please write a number4\n",
      "number entered:  4\n",
      "sq of the number:  16\n",
      "please write a number5\n",
      "number entered:  5\n",
      "sq of the number:  25\n",
      "please write a number6\n",
      "number entered:  6\n",
      "sq of the number:  36\n",
      "please write a number1\n",
      "number entered:  1\n",
      "sq of the number:  1\n"
     ]
    }
   ],
   "source": [
    "#taking input 6 times from user\n",
    "start = 1\n",
    "while start <= 6:\n",
    "    number = int(input(\"please write a number\"))\n",
    "    print(\"number entered: \", number)\n",
    "    print(\"sq of the number: \", number**2)\n",
    "    start = start + 1"
   ]
  },
  {
   "cell_type": "markdown",
   "id": "c266b5ae",
   "metadata": {},
   "source": [
    "# Question 35. \n",
    "Write a while loop that prints all numbers from 5 to 75. \n"
   ]
  },
  {
   "cell_type": "code",
   "execution_count": 91,
   "id": "c45daef5",
   "metadata": {},
   "outputs": [
    {
     "name": "stdout",
     "output_type": "stream",
     "text": [
      "5\n",
      "6\n",
      "7\n",
      "8\n",
      "9\n",
      "10\n",
      "11\n",
      "12\n",
      "13\n",
      "14\n",
      "15\n",
      "16\n",
      "17\n",
      "18\n",
      "19\n",
      "20\n",
      "21\n",
      "22\n",
      "23\n",
      "24\n",
      "25\n",
      "26\n",
      "27\n",
      "28\n",
      "29\n",
      "30\n",
      "31\n",
      "32\n",
      "33\n",
      "34\n",
      "35\n",
      "36\n",
      "37\n",
      "38\n",
      "39\n",
      "40\n",
      "41\n",
      "42\n",
      "43\n",
      "44\n",
      "45\n",
      "46\n",
      "47\n",
      "48\n",
      "49\n",
      "50\n",
      "51\n",
      "52\n",
      "53\n",
      "54\n",
      "55\n",
      "56\n",
      "57\n",
      "58\n",
      "59\n",
      "60\n",
      "61\n",
      "62\n",
      "63\n",
      "64\n",
      "65\n",
      "66\n",
      "67\n",
      "68\n",
      "69\n",
      "70\n",
      "71\n",
      "72\n",
      "73\n",
      "74\n",
      "75\n"
     ]
    }
   ],
   "source": [
    "start = 5\n",
    "end = 76\n",
    "while start < end:\n",
    "    print(start)\n",
    "    start = start +1"
   ]
  },
  {
   "cell_type": "markdown",
   "id": "fe159f1f",
   "metadata": {},
   "source": [
    "# Question  36. \n",
    "Write a while loop that prints all even numbers from 2 to 200. \n"
   ]
  },
  {
   "cell_type": "code",
   "execution_count": 98,
   "id": "b2ad1b2a",
   "metadata": {},
   "outputs": [
    {
     "name": "stdout",
     "output_type": "stream",
     "text": [
      "2\n",
      "4\n",
      "6\n",
      "8\n",
      "10\n",
      "12\n",
      "14\n",
      "16\n",
      "18\n",
      "20\n",
      "22\n",
      "24\n",
      "26\n",
      "28\n",
      "30\n",
      "32\n",
      "34\n",
      "36\n",
      "38\n",
      "40\n",
      "42\n",
      "44\n",
      "46\n",
      "48\n",
      "50\n",
      "52\n",
      "54\n",
      "56\n",
      "58\n",
      "60\n",
      "62\n",
      "64\n",
      "66\n",
      "68\n",
      "70\n",
      "72\n",
      "74\n",
      "76\n",
      "78\n",
      "80\n",
      "82\n",
      "84\n",
      "86\n",
      "88\n",
      "90\n",
      "92\n",
      "94\n",
      "96\n",
      "98\n",
      "100\n",
      "102\n",
      "104\n",
      "106\n",
      "108\n",
      "110\n",
      "112\n",
      "114\n",
      "116\n",
      "118\n",
      "120\n",
      "122\n",
      "124\n",
      "126\n",
      "128\n",
      "130\n",
      "132\n",
      "134\n",
      "136\n",
      "138\n",
      "140\n",
      "142\n",
      "144\n",
      "146\n",
      "148\n",
      "150\n",
      "152\n",
      "154\n",
      "156\n",
      "158\n",
      "160\n",
      "162\n",
      "164\n",
      "166\n",
      "168\n",
      "170\n",
      "172\n",
      "174\n",
      "176\n",
      "178\n",
      "180\n",
      "182\n",
      "184\n",
      "186\n",
      "188\n",
      "190\n",
      "192\n",
      "194\n",
      "196\n",
      "198\n",
      "200\n",
      "2\n",
      "4\n",
      "6\n",
      "8\n",
      "10\n",
      "12\n",
      "14\n",
      "16\n",
      "18\n",
      "20\n",
      "22\n",
      "24\n",
      "26\n",
      "28\n",
      "30\n",
      "32\n",
      "34\n",
      "36\n",
      "38\n",
      "40\n",
      "42\n",
      "44\n",
      "46\n",
      "48\n",
      "50\n",
      "52\n",
      "54\n",
      "56\n",
      "58\n",
      "60\n",
      "62\n",
      "64\n",
      "66\n",
      "68\n",
      "70\n",
      "72\n",
      "74\n",
      "76\n",
      "78\n",
      "80\n",
      "82\n",
      "84\n",
      "86\n",
      "88\n",
      "90\n",
      "92\n",
      "94\n",
      "96\n",
      "98\n",
      "100\n",
      "102\n",
      "104\n",
      "106\n",
      "108\n",
      "110\n",
      "112\n",
      "114\n",
      "116\n",
      "118\n",
      "120\n",
      "122\n",
      "124\n",
      "126\n",
      "128\n",
      "130\n",
      "132\n",
      "134\n",
      "136\n",
      "138\n",
      "140\n",
      "142\n",
      "144\n",
      "146\n",
      "148\n",
      "150\n",
      "152\n",
      "154\n",
      "156\n",
      "158\n",
      "160\n",
      "162\n",
      "164\n",
      "166\n",
      "168\n",
      "170\n",
      "172\n",
      "174\n",
      "176\n",
      "178\n",
      "180\n",
      "182\n",
      "184\n",
      "186\n",
      "188\n",
      "190\n",
      "192\n",
      "194\n",
      "196\n",
      "198\n",
      "200\n"
     ]
    }
   ],
   "source": [
    "start = 2\n",
    "end = 200\n",
    "while start <= end:\n",
    "    if start % 2 == 0:\n",
    "        print(start)\n",
    "    start = start +1\n",
    "    \n",
    "### or\n",
    "\n",
    "start = 2\n",
    "end = 200\n",
    "while start <= end:\n",
    "    print(start)\n",
    "    start = start +2"
   ]
  },
  {
   "cell_type": "markdown",
   "id": "4b02a2b3",
   "metadata": {},
   "source": [
    "# Question 37. \n",
    "Write a while loop that calculates and prints the sum of numbers from 1 to 100. "
   ]
  },
  {
   "cell_type": "code",
   "execution_count": 112,
   "id": "9d521853",
   "metadata": {},
   "outputs": [
    {
     "name": "stdout",
     "output_type": "stream",
     "text": [
      "15\n"
     ]
    }
   ],
   "source": [
    "start = 1\n",
    "end = 5\n",
    "total = 0\n",
    "while start <= end:\n",
    "    total = total + start\n",
    "    start = start +1\n",
    "    \n",
    "print(total)\n"
   ]
  },
  {
   "cell_type": "markdown",
   "id": "f70a0e69",
   "metadata": {},
   "source": [
    "# Question 38. \n",
    "Write a while loop that prints the following pattern (triangle): \n",
    "* \n",
    "** \n",
    "*** \n",
    "**** \n",
    "*****"
   ]
  },
  {
   "cell_type": "code",
   "execution_count": 1,
   "id": "364ce8dc",
   "metadata": {
    "scrolled": true
   },
   "outputs": [
    {
     "name": "stdout",
     "output_type": "stream",
     "text": [
      "*\n",
      "**\n",
      "***\n",
      "****\n",
      "*****\n"
     ]
    }
   ],
   "source": [
    "start = 1\n",
    "\n",
    "while start <= 5:\n",
    "    print(\"*\" * start)\n",
    "    start = start +1\n",
    "    \n"
   ]
  },
  {
   "cell_type": "markdown",
   "id": "e9b6e16c",
   "metadata": {},
   "source": [
    "# Question 39. \n",
    "Write a while loop that print following pattern (rectangle): \n",
    "*************************** \n",
    "*************************** \n",
    "*************************** \n",
    "*************************** \n"
   ]
  },
  {
   "cell_type": "code",
   "execution_count": 3,
   "id": "982d60fe",
   "metadata": {},
   "outputs": [
    {
     "name": "stdout",
     "output_type": "stream",
     "text": [
      "*************************\n",
      "*************************\n",
      "*************************\n",
      "*************************\n"
     ]
    }
   ],
   "source": [
    "start = 1\n",
    "\n",
    "while start <= 4:\n",
    "    print(\"*\" * 25)\n",
    "    start = start +1\n",
    "    "
   ]
  },
  {
   "cell_type": "markdown",
   "id": "c9f37fa0",
   "metadata": {},
   "source": [
    "# Question  40. \n",
    "Write a program that takes an integer as input and calculates the sum of the squares of  all natural numbers from 1 to the input number. \n",
    " "
   ]
  },
  {
   "cell_type": "code",
   "execution_count": 7,
   "id": "0ef0d980",
   "metadata": {},
   "outputs": [
    {
     "name": "stdout",
     "output_type": "stream",
     "text": [
      "enter a number2\n",
      "5\n"
     ]
    }
   ],
   "source": [
    "number = int(input(\"enter a number\"))\n",
    "squares = []\n",
    "while number >= 1:\n",
    "    squares.append(number**2)\n",
    "    number = number -1\n",
    "    \n",
    "summation = sum(squares)\n",
    "print(summation)"
   ]
  },
  {
   "cell_type": "markdown",
   "id": "062de3c1",
   "metadata": {},
   "source": [
    "# Question 41. \n",
    "Given a list of numbers, find the maximum value using a for loop. \n",
    "Input: A list of integers, for example, [10, 5, 25, 8, 15]. \n",
    "Expected Output: The maximum value in the list, which is 25."
   ]
  },
  {
   "cell_type": "code",
   "execution_count": 11,
   "id": "d0340e2b",
   "metadata": {},
   "outputs": [
    {
     "name": "stdout",
     "output_type": "stream",
     "text": [
      "25\n"
     ]
    }
   ],
   "source": [
    "list_numbers = [10, 5, 25, 8, 15]\n",
    "Maximum_value = max([10, 5, 25, 8, 15])\n",
    "\n",
    "print(Maximum_value)"
   ]
  },
  {
   "cell_type": "markdown",
   "id": "91cf242d",
   "metadata": {},
   "source": [
    "# 42 Question  \n",
    "Given a list of names, print each name in reverse. \n",
    "Input: A list of strings representing names, for example, [\"Alice\", \"Bob\", \"Charlie\", \"David\"]. Expected Output: \n",
    "ecilA \n",
    "boB \n",
    "eilrahC \n",
    "divaD \n"
   ]
  },
  {
   "cell_type": "code",
   "execution_count": 20,
   "id": "9f95ae1d",
   "metadata": {},
   "outputs": [
    {
     "name": "stdout",
     "output_type": "stream",
     "text": [
      "original:  Alice\n",
      "reversal:  ecilA\n",
      "original:  Bob\n",
      "reversal:  boB\n",
      "original:  Charlie\n",
      "reversal:  eilrahC\n",
      "original:  David\n",
      "reversal:  divaD\n"
     ]
    }
   ],
   "source": [
    "names = [\"Alice\", \"Bob\", \"Charlie\", \"David\"]\n",
    "\n",
    "index = 0\n",
    "while index < len(names):\n",
    "    print(\"original: \", names[index])\n",
    "    print(\"reversal: \", names[index][-1:-len(names[index])-1:-1])\n",
    "    index = index + 1\n"
   ]
  },
  {
   "cell_type": "markdown",
   "id": "55901c7e",
   "metadata": {},
   "source": [
    "# Question 43. \n",
    "Given a list of integers, find the average (mean) of the numbers. \n",
    "Input: A list of integers, for example, [10, 20, 30, 40, 50]. \n",
    "Expected Output: \n",
    "The average of the numbers, which is 30 in this case "
   ]
  },
  {
   "cell_type": "code",
   "execution_count": 21,
   "id": "e61820f1",
   "metadata": {},
   "outputs": [
    {
     "name": "stdout",
     "output_type": "stream",
     "text": [
      "30.0\n"
     ]
    }
   ],
   "source": [
    "integers = [10, 20, 30, 40, 50]\n",
    "average = sum(integers)/ len(integers)\n",
    "\n",
    "print(average)"
   ]
  },
  {
   "cell_type": "markdown",
   "id": "b9e24b38",
   "metadata": {},
   "source": [
    "# Question 44. \n",
    "Print the multiplication table of a given number (e.g., 8). \n",
    "Input: A single integer representing the number whose multiplication table needs to be  printed. For example, 8. \n",
    "Expected Output: \n",
    "Multiplication table of 8: \n",
    "8 x 1 = 8 \n",
    "8 x 2 = 16 \n",
    "8 x 3 = 24 \n",
    "... \n",
    "8 x 10 = 80\n"
   ]
  },
  {
   "cell_type": "code",
   "execution_count": 22,
   "id": "f7f88611",
   "metadata": {},
   "outputs": [
    {
     "name": "stdout",
     "output_type": "stream",
     "text": [
      "8 X 1 = 8\n",
      "8 X 2 = 16\n",
      "8 X 3 = 24\n",
      "8 X 4 = 32\n",
      "8 X 5 = 40\n",
      "8 X 6 = 48\n",
      "8 X 7 = 56\n",
      "8 X 8 = 64\n",
      "8 X 9 = 72\n",
      "8 X 10 = 80\n"
     ]
    }
   ],
   "source": [
    "start = 1\n",
    "while start <= 10:\n",
    "    print(\"8 X\", start, \"=\", 8*start)\n",
    "    start = start + 1"
   ]
  },
  {
   "cell_type": "markdown",
   "id": "e45e1201",
   "metadata": {},
   "source": [
    "# Question 45. 5. \n",
    "Given a list of strings, count the number of characters in each string and print the  results. \n",
    "Input: A list of strings, for example, [\"apple\", \"banana\", \"orange\", \"grape\"]. \n",
    "Expected Output: \n",
    "Number of characters in each word: \n",
    "apple: 5 \n",
    "banana: 6 \n",
    "orange: 6 \n",
    "grape: 5 "
   ]
  },
  {
   "cell_type": "code",
   "execution_count": 27,
   "id": "bb2510ae",
   "metadata": {},
   "outputs": [
    {
     "name": "stdout",
     "output_type": "stream",
     "text": [
      "apple : 5\n",
      "banana : 6\n",
      "orange : 6\n",
      "grape : 5\n"
     ]
    }
   ],
   "source": [
    "strings = [\"apple\", \"banana\", \"orange\", \"grape\"]\n",
    "\n",
    "index = 0\n",
    "while index < len(strings):\n",
    "    print(strings[index], \":\", len(strings[index]))\n",
    "    index = index + 1"
   ]
  },
  {
   "cell_type": "markdown",
   "id": "7a9523a4",
   "metadata": {},
   "source": [
    "#  Question 46.\n",
    "Given a list of strings, count the number of characters in each string and print the  results. \n",
    "Input: A list of strings, for example, [\"apple\", \"banana\", \"orange\", \"grape\"]. \n",
    "Expected Output: \n",
    "Number of characters in each word: \n",
    "apple: 5 \n",
    "banana: 6 \n",
    "orange: 6 \n",
    "grape: 5 "
   ]
  },
  {
   "cell_type": "code",
   "execution_count": 28,
   "id": "fe16e83d",
   "metadata": {},
   "outputs": [
    {
     "name": "stdout",
     "output_type": "stream",
     "text": [
      "apple : 5\n",
      "banana : 6\n",
      "orange : 6\n",
      "grape : 5\n"
     ]
    }
   ],
   "source": [
    "strings = [\"apple\", \"banana\", \"orange\", \"grape\"]\n",
    "\n",
    "index = 0\n",
    "while index < len(strings):\n",
    "    print(strings[index], \":\", len(strings[index]))\n",
    "    index = index + 1"
   ]
  },
  {
   "cell_type": "markdown",
   "id": "4987daa9",
   "metadata": {},
   "source": [
    "# Question 47\n",
    "Given a list of numbers, find the maximum value using a for loop. \n",
    "Input: A list of integers, for example, [10, 5, 25, 8, 15]. \n",
    "Expected Output: The maximum value in the list, which is 25."
   ]
  },
  {
   "cell_type": "code",
   "execution_count": 29,
   "id": "1c9c1e71",
   "metadata": {},
   "outputs": [
    {
     "name": "stdout",
     "output_type": "stream",
     "text": [
      "25\n"
     ]
    }
   ],
   "source": [
    "list_numbers = [10, 5, 25, 8, 15]\n",
    "Maximum_value = max([10, 5, 25, 8, 15])\n",
    "\n",
    "print(Maximum_value)"
   ]
  },
  {
   "cell_type": "code",
   "execution_count": null,
   "id": "b6eae7af",
   "metadata": {},
   "outputs": [],
   "source": []
  },
  {
   "cell_type": "code",
   "execution_count": null,
   "id": "1c26e7df",
   "metadata": {},
   "outputs": [],
   "source": []
  },
  {
   "cell_type": "code",
   "execution_count": null,
   "id": "c232f21e",
   "metadata": {},
   "outputs": [],
   "source": []
  },
  {
   "cell_type": "code",
   "execution_count": null,
   "id": "8c9955ce",
   "metadata": {},
   "outputs": [],
   "source": []
  },
  {
   "cell_type": "code",
   "execution_count": null,
   "id": "fb90eff9",
   "metadata": {},
   "outputs": [],
   "source": []
  },
  {
   "cell_type": "code",
   "execution_count": null,
   "id": "91631ce8",
   "metadata": {},
   "outputs": [],
   "source": []
  },
  {
   "cell_type": "code",
   "execution_count": null,
   "id": "37bc0109",
   "metadata": {},
   "outputs": [],
   "source": []
  },
  {
   "cell_type": "code",
   "execution_count": null,
   "id": "cc0a75ba",
   "metadata": {},
   "outputs": [],
   "source": []
  },
  {
   "cell_type": "code",
   "execution_count": null,
   "id": "a1c1d7a7",
   "metadata": {},
   "outputs": [],
   "source": []
  },
  {
   "cell_type": "code",
   "execution_count": null,
   "id": "e88cf717",
   "metadata": {},
   "outputs": [],
   "source": []
  },
  {
   "cell_type": "code",
   "execution_count": null,
   "id": "82a51244",
   "metadata": {},
   "outputs": [],
   "source": []
  },
  {
   "cell_type": "code",
   "execution_count": null,
   "id": "b5abf87b",
   "metadata": {},
   "outputs": [],
   "source": []
  },
  {
   "cell_type": "code",
   "execution_count": null,
   "id": "36555c1f",
   "metadata": {},
   "outputs": [],
   "source": []
  },
  {
   "cell_type": "code",
   "execution_count": null,
   "id": "5d4f65c4",
   "metadata": {},
   "outputs": [],
   "source": []
  },
  {
   "cell_type": "code",
   "execution_count": null,
   "id": "d55d1b3f",
   "metadata": {},
   "outputs": [],
   "source": []
  },
  {
   "cell_type": "code",
   "execution_count": null,
   "id": "f7cbdf58",
   "metadata": {},
   "outputs": [],
   "source": []
  },
  {
   "cell_type": "code",
   "execution_count": null,
   "id": "f3bd0007",
   "metadata": {},
   "outputs": [],
   "source": []
  },
  {
   "cell_type": "code",
   "execution_count": null,
   "id": "fc8a6bb7",
   "metadata": {},
   "outputs": [],
   "source": []
  },
  {
   "cell_type": "code",
   "execution_count": null,
   "id": "89631456",
   "metadata": {},
   "outputs": [],
   "source": []
  },
  {
   "cell_type": "code",
   "execution_count": null,
   "id": "c42aa69b",
   "metadata": {},
   "outputs": [],
   "source": []
  },
  {
   "cell_type": "code",
   "execution_count": null,
   "id": "08c84620",
   "metadata": {},
   "outputs": [],
   "source": []
  },
  {
   "cell_type": "code",
   "execution_count": null,
   "id": "9777549f",
   "metadata": {},
   "outputs": [],
   "source": []
  },
  {
   "cell_type": "code",
   "execution_count": null,
   "id": "0377b56f",
   "metadata": {},
   "outputs": [],
   "source": []
  },
  {
   "cell_type": "code",
   "execution_count": null,
   "id": "76706d9f",
   "metadata": {},
   "outputs": [],
   "source": []
  },
  {
   "cell_type": "markdown",
   "id": "e661a067",
   "metadata": {},
   "source": []
  },
  {
   "cell_type": "code",
   "execution_count": null,
   "id": "30b09a02",
   "metadata": {},
   "outputs": [],
   "source": []
  },
  {
   "cell_type": "markdown",
   "id": "9d68fa44",
   "metadata": {},
   "source": []
  },
  {
   "cell_type": "code",
   "execution_count": null,
   "id": "0b5bc45f",
   "metadata": {},
   "outputs": [],
   "source": []
  }
 ],
 "metadata": {
  "kernelspec": {
   "display_name": "Python 3 (ipykernel)",
   "language": "python",
   "name": "python3"
  },
  "language_info": {
   "codemirror_mode": {
    "name": "ipython",
    "version": 3
   },
   "file_extension": ".py",
   "mimetype": "text/x-python",
   "name": "python",
   "nbconvert_exporter": "python",
   "pygments_lexer": "ipython3",
   "version": "3.11.4"
  }
 },
 "nbformat": 4,
 "nbformat_minor": 5
}
